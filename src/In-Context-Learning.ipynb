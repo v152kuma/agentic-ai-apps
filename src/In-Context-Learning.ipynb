{
 "cells": [
  {
   "cell_type": "markdown",
   "source": [],
   "metadata": {
    "collapsed": false
   },
   "id": "25eaad09ffaa82d6"
  },
  {
   "cell_type": "markdown",
   "source": [
    "# In-Context Learning with Large Language Models\n",
    "# ==================================================================\n",
    "#  Setting up the environment"
   ],
   "metadata": {
    "collapsed": false
   },
   "id": "bfcd4279e890493a"
  },
  {
   "cell_type": "code",
   "outputs": [],
   "source": [
    "%%capture\n",
    "!pip install \"ibm-watsonx-ai==1.0.8\" --user\n",
    "!pip install \"langchain==0.2.11\" --user\n",
    "!pip install \"langchain-ibm==0.1.7\" --user\n",
    "!pip install \"langchain-core==0.2.43\" --user"
   ],
   "metadata": {
    "collapsed": false
   },
   "id": "228f31922c929ed3"
  }
 ],
 "metadata": {
  "kernelspec": {
   "display_name": "Python 3",
   "language": "python",
   "name": "python3"
  },
  "language_info": {
   "codemirror_mode": {
    "name": "ipython",
    "version": 2
   },
   "file_extension": ".py",
   "mimetype": "text/x-python",
   "name": "python",
   "nbconvert_exporter": "python",
   "pygments_lexer": "ipython2",
   "version": "2.7.6"
  }
 },
 "nbformat": 4,
 "nbformat_minor": 5
}
